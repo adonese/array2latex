{
 "cells": [
  {
   "cell_type": "code",
   "execution_count": 1,
   "metadata": {
    "collapsed": true
   },
   "outputs": [],
   "source": [
    "import os\n",
    "import warnings\n",
    "import numpy as np\n",
    "import pandas\n",
    "import csv\n",
    "import re"
   ]
  },
  {
   "cell_type": "code",
   "execution_count": 2,
   "metadata": {
    "collapsed": true
   },
   "outputs": [],
   "source": [
    "def get_type(data):\n",
    "    return type(data)"
   ]
  },
  {
   "cell_type": "code",
   "execution_count": 3,
   "metadata": {
    "collapsed": true
   },
   "outputs": [],
   "source": [
    "a = np.array([[1,2,3], [3, 5, 6]])\n"
   ]
  },
  {
   "cell_type": "code",
   "execution_count": 5,
   "metadata": {
    "collapsed": false
   },
   "outputs": [
    {
     "data": {
      "text/plain": [
       "'[[1 2 3]\\n [3 5 6]]'"
      ]
     },
     "execution_count": 5,
     "metadata": {},
     "output_type": "execute_result"
    }
   ],
   "source": [
    "a_string = np.array2string(a)\n",
    "a_string"
   ]
  },
  {
   "cell_type": "code",
   "execution_count": 7,
   "metadata": {
    "collapsed": false
   },
   "outputs": [
    {
     "data": {
      "text/plain": [
       "'1 2 3]\\n [3 5 6'"
      ]
     },
     "execution_count": 7,
     "metadata": {},
     "output_type": "execute_result"
    }
   ],
   "source": [
    "a_string[2:][:-2]"
   ]
  },
  {
   "cell_type": "code",
   "execution_count": 13,
   "metadata": {
    "collapsed": true
   },
   "outputs": [],
   "source": [
    "regex_1 = r\"\\[|\\]\"\n",
    "regex_2 = r\"\\n \"\n",
    "regex_3 = r\" \"\n",
    "\n",
    "repl_1 = r\"\"\n",
    "repl_2 = r\"\\\\\"\n",
    "repl_3 = r\",\"\n",
    "\n",
    "for regex_repl in zip((regex_1, regex_2, regex_3), (repl_1, repl_2, repl_3)):\n",
    "    a_string = re.sub(regex_repl[0], regex_repl[1], a_string)"
   ]
  },
  {
   "cell_type": "code",
   "execution_count": 12,
   "metadata": {
    "collapsed": false
   },
   "outputs": [
    {
     "data": {
      "text/plain": [
       "'1&2&3]\\n&[3&5&6'"
      ]
     },
     "execution_count": 12,
     "metadata": {},
     "output_type": "execute_result"
    }
   ],
   "source": [
    "re.sub(regex_3, r\"&\", a_string[2:][:-2])"
   ]
  },
  {
   "cell_type": "code",
   "execution_count": 173,
   "metadata": {
    "collapsed": false
   },
   "outputs": [
    {
     "data": {
      "text/plain": [
       "'[[     1      3    505     42    434]\\n [     2     43     43     43  -4343]\\n [   432     42     43     42 424042]]'"
      ]
     },
     "execution_count": 173,
     "metadata": {},
     "output_type": "execute_result"
    }
   ],
   "source": []
  },
  {
   "cell_type": "code",
   "execution_count": 215,
   "metadata": {
    "collapsed": false
   },
   "outputs": [
    {
     "name": "stdout",
     "output_type": "stream",
     "text": [
      "1 & 3 & 505 & 42 & 434\\\\\n",
      " & 2 & 43 & 43 & 43 & -4343\\\\\n",
      " & 432 & 42 & 43 & 42 & 424042\n"
     ]
    }
   ],
   "source": [
    "# Getting the largest number\n",
    "a = np.array([[1, 3, 505, 42, 434], [2, 43, 43, 43, -4343], [432, 42, 43, 42, 424042]])\n",
    "string_array = np.array2string(a)\n",
    "\n",
    "a_string = a_string[2:][:-2]\n",
    "regex_1 = r\"\\[|\\]\"\n",
    "regex_2 = \"\\n \"\n",
    "regex_3 = r\" \"\n",
    "repl_1 = r\"\"\n",
    "repl_2 = r\"\\\\\\\\\\n\"\n",
    "repl_3 = \" & \"\n",
    "for regex_repl in zip((regex_1, regex_2), (repl_1, repl_2)):\n",
    "    string_array = re.sub(regex_repl[0], regex_repl[1], string_array)\n",
    "# We need to do second pass. I really wish if there is an easy way of doing that\n",
    "array_removed_spaces = \" \".join(string_array.split())\n",
    "string_array = re.sub(regex_3, repl_3, array_removed_spaces)\n",
    "# Adding the extra \\n\n",
    "print(\"\\\\\\\\\\n\".join(string_array.split(r\"\\\\\")))"
   ]
  },
  {
   "cell_type": "code",
   "execution_count": 166,
   "metadata": {
    "collapsed": false
   },
   "outputs": [
    {
     "data": {
      "text/plain": [
       "'     &     &   50&    4&   434\\\\\\\\\\n     &    4&    4&    4& -4343\\\\\\\\\\n   43&    4&    4&    4&424042'"
      ]
     },
     "execution_count": 166,
     "metadata": {},
     "output_type": "execute_result"
    }
   ],
   "source": []
  },
  {
   "cell_type": "code",
   "execution_count": 50,
   "metadata": {
    "collapsed": false
   },
   "outputs": [
    {
     "data": {
      "text/plain": [
       "'sssss'"
      ]
     },
     "execution_count": 50,
     "metadata": {},
     "output_type": "execute_result"
    }
   ],
   "source": [
    "5*\"s\""
   ]
  },
  {
   "cell_type": "code",
   "execution_count": 331,
   "metadata": {
    "collapsed": false
   },
   "outputs": [],
   "source": [
    "def tolatex(array, header, centring=True, caption=\"My table\", label=\"table_something\"):\n",
    "    \"\"\"\n",
    "    This function converts numpy ndarray into a valid latex table.\n",
    "    \"\"\"\n",
    "    string_array = np.array2string(array)[2:][:-2] # I use this for tables items\n",
    "    regex_1 = r\"\\[|\\]\"\n",
    "    regex_2 = \"\\n \"\n",
    "    regex_3 = r\" \"\n",
    "    repl_1 = r\"\"\n",
    "    repl_2 = r\"\\\\\\\\\\n\"\n",
    "    repl_3 = \" & \"\n",
    "    \n",
    "    a_string = re.sub(regex_1, repl_1, string_array) # I use this to compute the largest number length\n",
    "    string_table_items = a_string.replace(\"\\n\", \"\").split(\" \")\n",
    "    length_table_items = max(len(str(i)) for i in string_table_items)\n",
    "    \n",
    "    template = \"\"\"\\\\begin{table}[]\n",
    "      %s\n",
    "      \\\\caption{%s}\n",
    "      \\\\label{%s}\n",
    "      \\\\begin{tabular}{@{%s}@{}}\n",
    "      \\\\toprule\n",
    "    \"\"\" % (centring, caption, label, len(header) * \"l\")\n",
    "    length_header_items = max(len(i) for i in header)\n",
    "    padding = \" \" * (max(length_table_items, length_header_items) // 2) + \"&\" + \" \" * (max(length_table_items, length_header_items) // 2)\n",
    "    midrule = \"  \" + padding.join(header) + r\"\\\\\" + \"\\n\" + \" \"* (max(length_table_items, length_header_items) // 2 + 2) + \"\\midrule\" + \"\\n\"\n",
    "    template += midrule\n",
    "    columns, rows = array.shape\n",
    "    if columns != header:\n",
    "        warnings.warn(\"The length of header doesn't match with the length of \\\n",
    "        the column. We will placeholder it with an empty string.\")\n",
    "    for regex_repl in zip((regex_1, regex_2), (repl_1, repl_2)):\n",
    "        string_array = re.sub(regex_repl[0], regex_repl[1], string_array)\n",
    "    # We need to do second pass. I really wish if there is an easy way of doing that\n",
    "    array_removed_spaces = \" \".join(string_array.strip().split())\n",
    "    string_array = re.sub(regex_3, repl_3, array_removed_spaces)\n",
    "    # Adding the extra \\n\n",
    "    string_array = \"\\t\\\\\\\\\\n\\t\".join(string_array.split(r\"\\\\\"))\n",
    "    string_array = \"\\t\" + string_array + \"\\\\\\\\\\n\"+ \"    \\\\bottomrule\" + \"\\n\" + \"    \\\\end{tabular}\" + \"\\n\" + \"\\\\end{table}\"\n",
    "    \n",
    "    return template + string_array"
   ]
  },
  {
   "cell_type": "code",
   "execution_count": 332,
   "metadata": {
    "collapsed": false
   },
   "outputs": [
    {
     "name": "stdout",
     "output_type": "stream",
     "text": [
      "\\begin{table}[]\n",
      "      True\n",
      "      \\caption{My table}\n",
      "      \\label{table_something}\n",
      "      \\begin{tabular}{@{lllll}@{}}\n",
      "      \\toprule\n",
      "      One     &     Two     &     Three     &     Four     &     Five\\\\\n",
      "       \\midrule\n",
      "\t0.16631292 & 0.97702809\t\\\\\n",
      "\t & 0.20791699 & 0.67693387\t\\\\\n",
      "\t & 0.51874648 & 0.57966175\t\\\\\n",
      "\t & 0.77753471 & 0.4093189 & \t\\\\\n",
      "\t & 0.51863438 & 0.88115219\t\\\\\n",
      "\t & 0.60895347 & 0.01832751\t\\\\\n",
      "\t & 0.80437334 & 0.62710777\\\\\n",
      "    \\bottomrule\n",
      "    \\end{tabular}\n",
      "\\end{table}\n"
     ]
    },
    {
     "name": "stderr",
     "output_type": "stream",
     "text": [
      "/home/adonese/anaconda3/lib/python3.5/site-packages/ipykernel/__main__.py:30: UserWarning: The length of header doesn't match with the length of         the column. We will placeholder it with an empty string.\n"
     ]
    }
   ],
   "source": [
    "a = np.random.rand(7, 2)\n",
    "print(tolatex(a, header=[\"One\", \"Two\", \"Three\", \"Four\", \"Five\"]))"
   ]
  },
  {
   "cell_type": "code",
   "execution_count": 375,
   "metadata": {
    "collapsed": false
   },
   "outputs": [
    {
     "name": "stdout",
     "output_type": "stream",
     "text": [
      "['0.06021033 & 0.33597086', '0.507968750.50427236', '0.645672580.16201692', '0.840258750.43529734', '0.519282170.8519447', '0.975711230.55873163']\n"
     ]
    },
    {
     "name": "stderr",
     "output_type": "stream",
     "text": [
      "/home/adonese/anaconda3/lib/python3.5/site-packages/ipykernel/__main__.py:27: UserWarning: The length of header doesn't match with the length of     the column. We will placeholder it with an empty string.\n"
     ]
    }
   ],
   "source": [
    "array = np.random.rand(6, 2)\n",
    "string_array = np.array2string(array)[2:][:-2] # I use this for tables items\n",
    "regex_1 = r\"\\[|\\]\"\n",
    "regex_2 = \"\\n \"\n",
    "regex_3 = r\" \"\n",
    "repl_1 = r\"\"\n",
    "repl_2 = r\"\\\\\\\\\\n\"\n",
    "repl_3 = \" & \"\n",
    "\n",
    "a_string = re.sub(regex_1, repl_1, string_array) # I use this to compute the largest number length\n",
    "string_table_items = a_string.replace(\"\\n\", \"\").split(\" \")\n",
    "length_table_items = max(len(str(i)) for i in string_table_items)\n",
    "\n",
    "template = \"\"\"\\\\begin{table}[]\n",
    "  %s\n",
    "  \\\\caption{%s}\n",
    "  \\\\label{%s}\n",
    "  \\\\begin{tabular}{@{%s}@{}}\n",
    "  \\\\toprule\n",
    "\"\"\" % (centring, caption, label, len(header) * \"l\")\n",
    "length_header_items = max(len(i) for i in header)\n",
    "padding = \" \" * (max(length_table_items, length_header_items) // 2) + \"&\" + \" \" * (max(length_table_items, length_header_items) // 2)\n",
    "midrule = \"  \" + padding.join(header) + r\"\\\\\" + \"\\n\" + \" \"* (max(length_table_items, length_header_items) // 2 + 2) + \"\\midrule\" + \"\\n\"\n",
    "template += midrule\n",
    "columns, rows = array.shape\n",
    "if columns != header:\n",
    "    warnings.warn(\"The length of header doesn't match with the length of \\\n",
    "    the column. We will placeholder it with an empty string.\")\n",
    "for regex_repl in zip((regex_1, regex_2), (repl_1, repl_2)):\n",
    "    string_array = re.sub(regex_repl[0], regex_repl[1], string_array)\n",
    "# We need to do second pass. I really wish if there is an easy way of doing that\n",
    "array_removed_spaces = \" \".join(string_array.split())\n",
    "\n",
    "string_array = re.sub(regex_3, repl_3, array_removed_spaces)\n",
    "string_array = string_array.split(\"\\\\\\\\\")\n"
   ]
  },
  {
   "cell_type": "code",
   "execution_count": 362,
   "metadata": {
    "collapsed": false
   },
   "outputs": [
    {
     "data": {
      "text/plain": [
       "(7, 2)"
      ]
     },
     "execution_count": 362,
     "metadata": {},
     "output_type": "execute_result"
    }
   ],
   "source": [
    "a.shape"
   ]
  },
  {
   "cell_type": "code",
   "execution_count": null,
   "metadata": {
    "collapsed": true
   },
   "outputs": [],
   "source": []
  }
 ],
 "metadata": {
  "anaconda-cloud": {},
  "kernelspec": {
   "display_name": "Python [Root]",
   "language": "python",
   "name": "Python [Root]"
  },
  "language_info": {
   "codemirror_mode": {
    "name": "ipython",
    "version": 3
   },
   "file_extension": ".py",
   "mimetype": "text/x-python",
   "name": "python",
   "nbconvert_exporter": "python",
   "pygments_lexer": "ipython3",
   "version": "3.5.2"
  }
 },
 "nbformat": 4,
 "nbformat_minor": 0
}
